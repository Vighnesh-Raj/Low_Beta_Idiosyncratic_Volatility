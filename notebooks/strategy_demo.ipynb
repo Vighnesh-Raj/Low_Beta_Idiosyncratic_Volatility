{
 "cells": [
  {
   "cell_type": "markdown",
   "id": "c30c4977",
   "metadata": {},
   "source": [
    "# Quantitative Strategies Demonstration"
   ]
  },
  {
   "cell_type": "code",
   "execution_count": null,
   "id": "2267d009",
   "metadata": {},
   "outputs": [],
   "source": [
    "\n",
    "# Import necessary libraries\n",
    "import pandas as pd\n",
    "import numpy as np\n",
    "import matplotlib.pyplot as plt\n",
    "from src.beta_estimation import calculate_stock_beta\n",
    "from src.volatility_estimation import calculate_residual_volatility\n",
    "\n",
    "# Load the data\n",
    "crsp = pd.read_csv(\"../data/crsp-monthly.csv\")\n",
    "ff_monthly = pd.read_csv(\"../data/ff-monthly.csv\")\n",
    "\n",
    "# Merge datasets\n",
    "crsp['date'] = pd.to_datetime(crsp['date'])\n",
    "ff_monthly['dateff'] = pd.to_datetime(ff_monthly['dateff'])\n",
    "data = pd.merge(crsp, ff_monthly, left_on='date', right_on='dateff', how='inner')\n",
    "\n",
    "# Ensure numeric columns\n",
    "data['RET'] = pd.to_numeric(data['RET'], errors='coerce')\n",
    "data['rf'] = pd.to_numeric(data['rf'], errors='coerce')\n",
    "data['mktrf'] = pd.to_numeric(data['mktrf'], errors='coerce')\n",
    "\n",
    "# Calculate rolling betas\n",
    "beta_data = calculate_stock_beta(data, lookback_period=60, n_jobs=-1)\n",
    "beta_data.head()\n"
   ]
  },
  {
   "cell_type": "markdown",
   "id": "b4d17368",
   "metadata": {},
   "source": [
    "## Visualize Beta Results"
   ]
  },
  {
   "cell_type": "code",
   "execution_count": null,
   "id": "5afb5212",
   "metadata": {},
   "outputs": [],
   "source": [
    "\n",
    "# Plot some example beta values over time\n",
    "beta_sample = beta_data[beta_data['PERMNO'] == beta_data['PERMNO'].unique()[0]]\n",
    "plt.figure(figsize=(10, 6))\n",
    "plt.plot(beta_sample['date'], beta_sample['beta'], label=\"Beta\")\n",
    "plt.title(\"Example Beta Over Time\")\n",
    "plt.xlabel(\"Date\")\n",
    "plt.ylabel(\"Beta\")\n",
    "plt.legend()\n",
    "plt.grid(True)\n",
    "plt.show()\n"
   ]
  }
 ],
 "metadata": {},
 "nbformat": 4,
 "nbformat_minor": 5
}
